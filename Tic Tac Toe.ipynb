{
 "cells": [
  {
   "cell_type": "code",
   "execution_count": 22,
   "id": "1e49028b",
   "metadata": {},
   "outputs": [],
   "source": [
    "from IPython.display import clear_output\n",
    "clear_output()"
   ]
  },
  {
   "cell_type": "code",
   "execution_count": 23,
   "id": "41cf4214",
   "metadata": {},
   "outputs": [],
   "source": [
    "def display_reference_board():\n",
    "    clear_output()\n",
    "    print(\"Reference Positions: \")\n",
    "    print(\" 7 \",\"|\",\" 8 \",\"|\",\" 9 \")\n",
    "    print(\"--------------\")\n",
    "    print(\" 4 \",\"|\",\" 5 \",\"|\",\" 6 \")\n",
    "    print(\"--------------\")\n",
    "    print(\" 1 \",\"|\",\" 2 \",\"|\",\" 3 \")"
   ]
  },
  {
   "cell_type": "code",
   "execution_count": 24,
   "id": "1d4e06f6",
   "metadata": {},
   "outputs": [],
   "source": [
    "def display_board(arr):\n",
    "    clear_output()\n",
    "    print(\"Board:\")\n",
    "    print(arr[6],\"|\",arr[7],\"|\",arr[8])\n",
    "    print(\"---------------\")\n",
    "    print(arr[3],\"|\",arr[4],\"|\",arr[5])\n",
    "    print(\"---------------\")\n",
    "    print(arr[0],\"|\",arr[1],\"|\",arr[2])"
   ]
  },
  {
   "cell_type": "code",
   "execution_count": 25,
   "id": "8851e913",
   "metadata": {},
   "outputs": [],
   "source": [
    "def welcome():\n",
    "    choice = \"WRONG\"\n",
    "    \n",
    "    while choice not in ['X','O']:\n",
    "        clear_output()\n",
    "        print(\"Welcome to Tic Tac Toe!!\")\n",
    "        choice = input(\"Player 1: Do you want to be X or O? \")\n",
    "        \n",
    "        \n",
    "        if choice not in ['X','O']:\n",
    "            print(\"Please chose between X or O!\")\n",
    "        else:\n",
    "            marker = \" \"+choice+\" \"\n",
    "            print(f\"Player 1 is : {marker}\")\n",
    "            if marker == ' X ':\n",
    "                marker2 = ' O '\n",
    "            else:\n",
    "                marker2 = ' X '\n",
    "                \n",
    "    return marker,marker2        "
   ]
  },
  {
   "cell_type": "code",
   "execution_count": 26,
   "id": "3c7b238f",
   "metadata": {},
   "outputs": [],
   "source": [
    "def space_check (arr,position):\n",
    "    \n",
    "    return arr[position-1] == \"   \""
   ]
  },
  {
   "cell_type": "code",
   "execution_count": 27,
   "id": "0d190ef3",
   "metadata": {},
   "outputs": [],
   "source": [
    "def position_choice(arr):\n",
    "    position = \"WRONG\"\n",
    "    acceptable_values = range(1,10)\n",
    "    within_range = False\n",
    "    \n",
    "    while within_range == False or position.isdigit() == False:\n",
    "        position = input(\"Select the desire position (1-9): \")\n",
    "        \n",
    "        if position.isdigit() == False:\n",
    "            print(\"Please enter a whole number!\")\n",
    "        \n",
    "        elif int(position) not in range(1,10):\n",
    "            print(\"Please chose between 1 to 9 !\")\n",
    "        \n",
    "        elif space_check(arr,int(position)) == False:\n",
    "            print(\"Position already ocupied!\")\n",
    "            \n",
    "        else:\n",
    "            within_range = True\n",
    "            \n",
    "    return int(position)"
   ]
  },
  {
   "cell_type": "code",
   "execution_count": 28,
   "id": "708377a7",
   "metadata": {},
   "outputs": [],
   "source": [
    "def inserting_choice(player,position,arr):\n",
    "    arr[position-1] = player\n",
    "    return arr"
   ]
  },
  {
   "cell_type": "code",
   "execution_count": 32,
   "id": "aa711573",
   "metadata": {},
   "outputs": [],
   "source": [
    "def checking_winner(arr,marker):\n",
    "    if (arr[0] == arr[1] == arr[2] == marker):\n",
    "        print(\"Congratulations! You have won the game!\")\n",
    "        return True\n",
    "    elif (arr[0] == arr[4] == arr[8] == marker):\n",
    "        print(\"Congratulations! You have won the game!\")\n",
    "        return True\n",
    "    elif (arr[0] == arr[3] == arr[6] == marker):\n",
    "        print(\"Congratulations! You have won the game!\")\n",
    "        return True\n",
    "        \n",
    "    elif (arr[2] == arr[5] == arr[8] == marker):\n",
    "        print(\"Congratulations! You have won the game!\")\n",
    "        return True\n",
    "        \n",
    "    elif (arr[6] == arr[7] == arr[8] == marker):\n",
    "        print(\"Congratulations! You have won the game!\")\n",
    "        return True\n",
    "        \n",
    "    elif (arr[6] == arr[4] == arr[2] == marker):\n",
    "        print(\"Congratulations! You have won the game!\")\n",
    "        return True\n",
    "    \n",
    "    elif (arr[7] == arr[4] == arr[1] == marker):\n",
    "        print(\"Congratulations! You have won the game!\")\n",
    "        return True\n",
    "        \n",
    "    elif (arr[3] == arr[4] == arr[5] == marker):\n",
    "        print(\"Congratulations! You have won the game!\")\n",
    "        return True\n",
    "        \n",
    "    else:\n",
    "        for test in arr:\n",
    "            if test == \"   \":\n",
    "                return False\n",
    "        print(\"It's a Tie!\")\n",
    "        return True"
   ]
  },
  {
   "cell_type": "code",
   "execution_count": 30,
   "id": "3aa3e5bd",
   "metadata": {},
   "outputs": [],
   "source": [
    "def gameon_choice():\n",
    "    choice = \"WRONG\"\n",
    "    \n",
    "    while choice not in ['Y','N']:\n",
    "        choice = input(\"Want to continue playing? (Y/N) \")\n",
    "        \n",
    "        if choice not in ['Y','N']:\n",
    "            clear_output()\n",
    "            print(\"Sorry, invalid choice!\")\n",
    "        \n",
    "    if choice == \"N\":\n",
    "        return False\n",
    "    else:\n",
    "        return True"
   ]
  },
  {
   "cell_type": "code",
   "execution_count": 33,
   "id": "a82d3c8c",
   "metadata": {
    "scrolled": true
   },
   "outputs": [
    {
     "name": "stdout",
     "output_type": "stream",
     "text": [
      "Board:\n",
      "    |     |    \n",
      "---------------\n",
      "    |     |    \n",
      "---------------\n",
      " X  |     |    \n"
     ]
    },
    {
     "ename": "KeyboardInterrupt",
     "evalue": "Interrupted by user",
     "output_type": "error",
     "traceback": [
      "\u001b[1;31m---------------------------------------------------------------------------\u001b[0m",
      "\u001b[1;31mKeyboardInterrupt\u001b[0m                         Traceback (most recent call last)",
      "Input \u001b[1;32mIn [33]\u001b[0m, in \u001b[0;36m<cell line: 3>\u001b[1;34m()\u001b[0m\n\u001b[0;32m     14\u001b[0m \u001b[38;5;28;01mif\u001b[39;00m check_winner:\n\u001b[0;32m     15\u001b[0m     \u001b[38;5;28;01mbreak\u001b[39;00m\n\u001b[1;32m---> 17\u001b[0m position \u001b[38;5;241m=\u001b[39m \u001b[43mposition_choice\u001b[49m\u001b[43m(\u001b[49m\u001b[43marr\u001b[49m\u001b[43m)\u001b[49m\n\u001b[0;32m     18\u001b[0m inserting_choice(player2,position,arr)\n\u001b[0;32m     19\u001b[0m display_board(arr)\n",
      "Input \u001b[1;32mIn [27]\u001b[0m, in \u001b[0;36mposition_choice\u001b[1;34m(arr)\u001b[0m\n\u001b[0;32m      4\u001b[0m within_range \u001b[38;5;241m=\u001b[39m \u001b[38;5;28;01mFalse\u001b[39;00m\n\u001b[0;32m      6\u001b[0m \u001b[38;5;28;01mwhile\u001b[39;00m within_range \u001b[38;5;241m==\u001b[39m \u001b[38;5;28;01mFalse\u001b[39;00m \u001b[38;5;129;01mor\u001b[39;00m position\u001b[38;5;241m.\u001b[39misdigit() \u001b[38;5;241m==\u001b[39m \u001b[38;5;28;01mFalse\u001b[39;00m:\n\u001b[1;32m----> 7\u001b[0m     position \u001b[38;5;241m=\u001b[39m \u001b[38;5;28;43minput\u001b[39;49m\u001b[43m(\u001b[49m\u001b[38;5;124;43m\"\u001b[39;49m\u001b[38;5;124;43mSelect the desire position (1-9): \u001b[39;49m\u001b[38;5;124;43m\"\u001b[39;49m\u001b[43m)\u001b[49m\n\u001b[0;32m      9\u001b[0m     \u001b[38;5;28;01mif\u001b[39;00m position\u001b[38;5;241m.\u001b[39misdigit() \u001b[38;5;241m==\u001b[39m \u001b[38;5;28;01mFalse\u001b[39;00m:\n\u001b[0;32m     10\u001b[0m         \u001b[38;5;28mprint\u001b[39m(\u001b[38;5;124m\"\u001b[39m\u001b[38;5;124mPlease enter a whole number!\u001b[39m\u001b[38;5;124m\"\u001b[39m)\n",
      "File \u001b[1;32m~\\AppData\\Local\\Ford-Conda\\envs\\py38_jupyter\\lib\\site-packages\\ipykernel\\kernelbase.py:1161\u001b[0m, in \u001b[0;36mKernel.raw_input\u001b[1;34m(self, prompt)\u001b[0m\n\u001b[0;32m   1157\u001b[0m \u001b[38;5;28;01mif\u001b[39;00m \u001b[38;5;129;01mnot\u001b[39;00m \u001b[38;5;28mself\u001b[39m\u001b[38;5;241m.\u001b[39m_allow_stdin:\n\u001b[0;32m   1158\u001b[0m     \u001b[38;5;28;01mraise\u001b[39;00m StdinNotImplementedError(\n\u001b[0;32m   1159\u001b[0m         \u001b[38;5;124m\"\u001b[39m\u001b[38;5;124mraw_input was called, but this frontend does not support input requests.\u001b[39m\u001b[38;5;124m\"\u001b[39m\n\u001b[0;32m   1160\u001b[0m     )\n\u001b[1;32m-> 1161\u001b[0m \u001b[38;5;28;01mreturn\u001b[39;00m \u001b[38;5;28;43mself\u001b[39;49m\u001b[38;5;241;43m.\u001b[39;49m\u001b[43m_input_request\u001b[49m\u001b[43m(\u001b[49m\n\u001b[0;32m   1162\u001b[0m \u001b[43m    \u001b[49m\u001b[38;5;28;43mstr\u001b[39;49m\u001b[43m(\u001b[49m\u001b[43mprompt\u001b[49m\u001b[43m)\u001b[49m\u001b[43m,\u001b[49m\n\u001b[0;32m   1163\u001b[0m \u001b[43m    \u001b[49m\u001b[38;5;28;43mself\u001b[39;49m\u001b[38;5;241;43m.\u001b[39;49m\u001b[43m_parent_ident\u001b[49m\u001b[43m[\u001b[49m\u001b[38;5;124;43m\"\u001b[39;49m\u001b[38;5;124;43mshell\u001b[39;49m\u001b[38;5;124;43m\"\u001b[39;49m\u001b[43m]\u001b[49m\u001b[43m,\u001b[49m\n\u001b[0;32m   1164\u001b[0m \u001b[43m    \u001b[49m\u001b[38;5;28;43mself\u001b[39;49m\u001b[38;5;241;43m.\u001b[39;49m\u001b[43mget_parent\u001b[49m\u001b[43m(\u001b[49m\u001b[38;5;124;43m\"\u001b[39;49m\u001b[38;5;124;43mshell\u001b[39;49m\u001b[38;5;124;43m\"\u001b[39;49m\u001b[43m)\u001b[49m\u001b[43m,\u001b[49m\n\u001b[0;32m   1165\u001b[0m \u001b[43m    \u001b[49m\u001b[43mpassword\u001b[49m\u001b[38;5;241;43m=\u001b[39;49m\u001b[38;5;28;43;01mFalse\u001b[39;49;00m\u001b[43m,\u001b[49m\n\u001b[0;32m   1166\u001b[0m \u001b[43m\u001b[49m\u001b[43m)\u001b[49m\n",
      "File \u001b[1;32m~\\AppData\\Local\\Ford-Conda\\envs\\py38_jupyter\\lib\\site-packages\\ipykernel\\kernelbase.py:1205\u001b[0m, in \u001b[0;36mKernel._input_request\u001b[1;34m(self, prompt, ident, parent, password)\u001b[0m\n\u001b[0;32m   1202\u001b[0m             \u001b[38;5;28;01mbreak\u001b[39;00m\n\u001b[0;32m   1203\u001b[0m \u001b[38;5;28;01mexcept\u001b[39;00m \u001b[38;5;167;01mKeyboardInterrupt\u001b[39;00m:\n\u001b[0;32m   1204\u001b[0m     \u001b[38;5;66;03m# re-raise KeyboardInterrupt, to truncate traceback\u001b[39;00m\n\u001b[1;32m-> 1205\u001b[0m     \u001b[38;5;28;01mraise\u001b[39;00m \u001b[38;5;167;01mKeyboardInterrupt\u001b[39;00m(\u001b[38;5;124m\"\u001b[39m\u001b[38;5;124mInterrupted by user\u001b[39m\u001b[38;5;124m\"\u001b[39m) \u001b[38;5;28;01mfrom\u001b[39;00m \u001b[38;5;28mNone\u001b[39m\n\u001b[0;32m   1206\u001b[0m \u001b[38;5;28;01mexcept\u001b[39;00m \u001b[38;5;167;01mException\u001b[39;00m:\n\u001b[0;32m   1207\u001b[0m     \u001b[38;5;28mself\u001b[39m\u001b[38;5;241m.\u001b[39mlog\u001b[38;5;241m.\u001b[39mwarning(\u001b[38;5;124m\"\u001b[39m\u001b[38;5;124mInvalid Message:\u001b[39m\u001b[38;5;124m\"\u001b[39m, exc_info\u001b[38;5;241m=\u001b[39m\u001b[38;5;28;01mTrue\u001b[39;00m)\n",
      "\u001b[1;31mKeyboardInterrupt\u001b[0m: Interrupted by user"
     ]
    }
   ],
   "source": [
    "game_on = True\n",
    "\n",
    "while game_on == True:\n",
    "    player1,player2 = welcome()\n",
    "    display_reference_board()\n",
    "    check_winner = False\n",
    "    arr = [\"   \"]*9\n",
    "    \n",
    "    while check_winner == False:\n",
    "        position = position_choice(arr)\n",
    "        arr = inserting_choice(player1,position,arr)\n",
    "        display_board(arr)\n",
    "        check_winner = checking_winner(arr,player1)\n",
    "        if check_winner:\n",
    "            break\n",
    "\n",
    "        position = position_choice(arr)\n",
    "        inserting_choice(player2,position,arr)\n",
    "        display_board(arr)\n",
    "        check_winner = checking_winner(arr,player2)\n",
    "        if check_winner:\n",
    "            break\n",
    "    game_on = gameon_choice()"
   ]
  },
  {
   "cell_type": "code",
   "execution_count": null,
   "id": "c2be24b4",
   "metadata": {},
   "outputs": [],
   "source": []
  }
 ],
 "metadata": {
  "kernelspec": {
   "display_name": "py38_jupyter_kernel",
   "language": "python",
   "name": "py38_jupyter_kernel"
  },
  "language_info": {
   "codemirror_mode": {
    "name": "ipython",
    "version": 3
   },
   "file_extension": ".py",
   "mimetype": "text/x-python",
   "name": "python",
   "nbconvert_exporter": "python",
   "pygments_lexer": "ipython3",
   "version": "3.8.13"
  }
 },
 "nbformat": 4,
 "nbformat_minor": 5
}
