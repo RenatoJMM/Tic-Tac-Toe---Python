{
 "cells": [
  {
   "cell_type": "code",
   "execution_count": 49,
   "id": "1e49028b",
   "metadata": {},
   "outputs": [],
   "source": [
    "from IPython.display import clear_output\n",
    "clear_output()"
   ]
  },
  {
   "cell_type": "code",
   "execution_count": 50,
   "id": "41cf4214",
   "metadata": {},
   "outputs": [],
   "source": [
    "def display_reference_board():\n",
    "    clear_output()\n",
    "    print(\"Reference Positions: \")\n",
    "    print(\" 7 \",\"|\",\" 8 \",\"|\",\" 9 \")\n",
    "    print(\"--------------\")\n",
    "    print(\" 4 \",\"|\",\" 5 \",\"|\",\" 6 \")\n",
    "    print(\"--------------\")\n",
    "    print(\" 1 \",\"|\",\" 2 \",\"|\",\" 3 \")"
   ]
  },
  {
   "cell_type": "code",
   "execution_count": 51,
   "id": "1d4e06f6",
   "metadata": {},
   "outputs": [],
   "source": [
    "def display_board(arr):\n",
    "    clear_output()\n",
    "    print(\"Board:\")\n",
    "    print(arr[6],\"|\",arr[7],\"|\",arr[8])\n",
    "    print(\"---------------\")\n",
    "    print(arr[3],\"|\",arr[4],\"|\",arr[5])\n",
    "    print(\"---------------\")\n",
    "    print(arr[0],\"|\",arr[1],\"|\",arr[2])"
   ]
  },
  {
   "cell_type": "code",
   "execution_count": 62,
   "id": "8851e913",
   "metadata": {},
   "outputs": [],
   "source": [
    "def welcome():\n",
    "    choice = \"WRONG\"\n",
    "    \n",
    "    while choice not in ['X','O']:\n",
    "        clear_output()\n",
    "        print(\"Welcome to Tic Tac Toe!!\")\n",
    "        choice = input(\"Player 1: Do you want to be X or O? \")\n",
    "        \n",
    "        \n",
    "        if choice not in ['X','O']:\n",
    "            print(\"Please chose between X or O!\")\n",
    "        else:\n",
    "            marker = choice\n",
    "            print(f\"Player 1 is : {choice}\")\n",
    "            if marker == 'X':\n",
    "                marker2 = 'O'\n",
    "            else:\n",
    "                marker2 = 'X'\n",
    "                \n",
    "    return marker,marker2        "
   ]
  },
  {
   "cell_type": "code",
   "execution_count": 53,
   "id": "0d190ef3",
   "metadata": {},
   "outputs": [],
   "source": [
    "def position_choice():\n",
    "    position = \"WRONG\"\n",
    "    acceptable_values = range(1,10)\n",
    "    within_range = False\n",
    "    \n",
    "    while within_range == False or position.isdigit() == False:\n",
    "        position = input(\"Select the desire position (1-9): \")\n",
    "        \n",
    "        if position.isdigit() == False:\n",
    "            print(\"Please enter a whole number!\")\n",
    "        \n",
    "        elif int(position) not in range(1,10):\n",
    "            print(\"Please chose between 1 to 9 !\")\n",
    "            \n",
    "        else:\n",
    "            within_range = True\n",
    "            \n",
    "    return int(position)"
   ]
  },
  {
   "cell_type": "code",
   "execution_count": 54,
   "id": "708377a7",
   "metadata": {},
   "outputs": [],
   "source": [
    "def inserting_choice(player,position,arr):\n",
    "    arr[position-1] = \" \"+player+\" \"\n",
    "    return arr"
   ]
  },
  {
   "cell_type": "code",
   "execution_count": 68,
   "id": "aa711573",
   "metadata": {},
   "outputs": [],
   "source": [
    "def checking_winner(arr,marker):\n",
    "    if (arr[0] == arr[1] == arr[2] == marker):\n",
    "        print(\"Congratulations! You have won the game!\")\n",
    "        return True\n",
    "    elif (arr[0] == arr[4] == arr[8] == marker):\n",
    "        print(\"Congratulations! You have won the game!\")\n",
    "        return True\n",
    "    elif (arr[0] == arr[3] == arr[6] == marker):\n",
    "        print(\"Congratulations! You have won the game!\")\n",
    "        return True\n",
    "        \n",
    "    elif (arr[2] == arr[5] == arr[8] == marker):\n",
    "        print(\"Congratulations! You have won the game!\")\n",
    "        return True\n",
    "        \n",
    "    elif (arr[6] == arr[7] == arr[8] == marker):\n",
    "        print(\"Congratulations! You have won the game!\")\n",
    "        return True\n",
    "        \n",
    "    elif (arr[6] == arr[4] == arr[2] == marker):\n",
    "        print(\"Congratulations! You have won the game!\")\n",
    "        return True\n",
    "        \n",
    "    elif (arr[3] == arr[4] == arr[5] == marker):\n",
    "        print(\"Congratulations! You have won the game!\")\n",
    "        return True\n",
    "        \n",
    "    else:\n",
    "        for test in arr:\n",
    "            if test == \"   \":\n",
    "                return False\n",
    "        print(\"It's a Tie!\")\n",
    "        return True"
   ]
  },
  {
   "cell_type": "code",
   "execution_count": 56,
   "id": "3aa3e5bd",
   "metadata": {},
   "outputs": [],
   "source": [
    "def gameon_choice():\n",
    "    choice = \"WRONG\"\n",
    "    \n",
    "    while choice not in ['Y','N']:\n",
    "        choice = input(\"Want to continue playing? (Y/N) \")\n",
    "        \n",
    "        if choice not in ['Y','N']:\n",
    "            clear_output()\n",
    "            print(\"Sorry, invalid choice!\")\n",
    "        \n",
    "    if choice == \"N\":\n",
    "        return False\n",
    "    else:\n",
    "        return True"
   ]
  },
  {
   "cell_type": "code",
   "execution_count": 69,
   "id": "a82d3c8c",
   "metadata": {
    "scrolled": true
   },
   "outputs": [
    {
     "name": "stdout",
     "output_type": "stream",
     "text": [
      "Board:\n",
      " O  |  X  |  X \n",
      "---------------\n",
      " O  |  X  |  O \n",
      "---------------\n",
      " X  |  O  |  X \n",
      "It's a Tie!\n",
      "Want to continue playing? (Y/N) N\n"
     ]
    }
   ],
   "source": [
    "game_on = True\n",
    "check_winner = False\n",
    "arr = [\"   \"]*9\n",
    "\n",
    "while game_on == True:\n",
    "    player1,player2 = welcome()\n",
    "    display_reference_board()\n",
    "    \n",
    "    while check_winner == False:\n",
    "        position = position_choice()\n",
    "        arr = inserting_choice(player1,position,arr)\n",
    "        display_board(arr)\n",
    "        check_winner = checking_winner(arr,player1)\n",
    "        if check_winner:\n",
    "            break\n",
    "\n",
    "        position = position_choice()\n",
    "        inserting_choice(player2,position,arr)\n",
    "        display_board(arr)\n",
    "        check_winner = checking_winner(arr,player2)\n",
    "        if check_winner:\n",
    "            break\n",
    "    game_on = gameon_choice()"
   ]
  },
  {
   "cell_type": "code",
   "execution_count": null,
   "id": "c2be24b4",
   "metadata": {},
   "outputs": [],
   "source": []
  }
 ],
 "metadata": {
  "kernelspec": {
   "display_name": "py38_jupyter_kernel",
   "language": "python",
   "name": "py38_jupyter_kernel"
  },
  "language_info": {
   "codemirror_mode": {
    "name": "ipython",
    "version": 3
   },
   "file_extension": ".py",
   "mimetype": "text/x-python",
   "name": "python",
   "nbconvert_exporter": "python",
   "pygments_lexer": "ipython3",
   "version": "3.8.13"
  }
 },
 "nbformat": 4,
 "nbformat_minor": 5
}
